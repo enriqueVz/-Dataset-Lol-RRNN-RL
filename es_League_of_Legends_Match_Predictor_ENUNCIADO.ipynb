{
  "cells": [
    {
      "cell_type": "markdown",
      "metadata": {
        "id": "q66nRzwog-ZV"
      },
      "source": [
        "# Caso Práctico: League of Legends Match Predictor"
      ]
    },
    {
      "cell_type": "markdown",
      "metadata": {
        "id": "cpPH81bjg-ZX"
      },
      "source": [
        "## Introduccion\n",
        "League of Legends, un popular juego de batalla en línea multijugador (MOBA), genera una gran cantidad de datos a partir de las partidas, lo que brinda una excelente oportunidad para aplicar técnicas de aprendizaje automático a escenarios del mundo real.  \n",
        "\n",
        "Sigue los siguientes pasos para construir un modelo de regresión logística con el objetivo de predecir los resultados de las partidas de League of Legends.  \n",
        "\n",
        "Utiliza el archivo [league_of_legends_data_large.csv](https://cf-courses-data.s3.us.cloud-object-storage.appdomain.cloud/rk7VDaPjMp1h5VXS-cUyMg/league-of-legends-data-large.csv) para realizar las tareas.\n",
        "\n",
        "## **Paso 1: Carga y Preprocesamiento de Datos**  \n",
        "\n",
        "La carga y preprocesamiento del conjunto de datos implica **leer los datos, dividirlos en conjuntos de entrenamiento y prueba, y estandarizar las características**. Se utilizarán `pandas` para la manipulación de datos, `train_test_split` de `sklearn` para la división de datos y `StandardScaler` para la normalización de las características.  \n",
        "\n",
        "**Nota:** Asegúrate de que todas las bibliotecas necesarias están instaladas e importadas.  \n",
        "\n",
        "### **1. Cargar el conjunto de datos:**  \n",
        "Usa `pd.read_csv()` para cargar los datos en un DataFrame de pandas.  \n",
        "\n",
        "### **2. Separar características y objetivo:**  \n",
        "Separa la columna `win` (objetivo) de las demás columnas (características).  \n",
        "```python\n",
        "X = data.drop('win', axis=1)  \n",
        "y = data['win']\n",
        "```\n",
        "\n",
        "### **3. Dividir los datos en conjuntos de entrenamiento y prueba:**  \n",
        "Usa `train_test_split()` de `sklearn.model_selection` para dividir los datos.  \n",
        "- Configura `test_size=0.2` para asignar el 20% de los datos al conjunto de prueba y el 80% al de entrenamiento.  \n",
        "- Usa `random_state=42` para garantizar la reproducibilidad de la división.  \n",
        "\n",
        "### **4. Normalizar las características:**  \n",
        "Usa `StandardScaler()` de `sklearn.preprocessing` para escalar las características y mejorar la estabilidad del modelo.  \n",
        "\n",
        "### **5. Convertir a tensores en TensorFlow:**  \n",
        "Usa `tf.convert_to_tensor()` para convertir los datos en tensores de TensorFlow.  \n",
        "\n",
        "---\n",
        "\n",
        "### **Ejercicio 1:**  \n",
        "Escribe un código para **cargar el conjunto de datos, dividirlo en conjuntos de entrenamiento y prueba, normalizar las características y convertir los datos en tensores de TensorFlow** para su uso en el entrenamiento de un modelo en TensorFlow."
      ]
    },
    {
      "cell_type": "markdown",
      "metadata": {
        "id": "a3fSV0sIg-ZX"
      },
      "source": [
        "### Setup\n",
        "Carga las librerías:"
      ]
    },
    {
      "cell_type": "code",
      "execution_count": null,
      "metadata": {
        "id": "m6Dxjum-g-ZY"
      },
      "outputs": [],
      "source": [
        "import tensorflow as tf\n",
        "import pandas as pd\n",
        "import numpy as np\n",
        "import matplotlib.pyplot as plt"
      ]
    },
    {
      "cell_type": "code",
      "source": [
        "from google.colab import files\n",
        "\n",
        "# Subir el archivo\n",
        "uploaded = files.upload()"
      ],
      "metadata": {
        "colab": {
          "base_uri": "https://localhost:8080/",
          "height": 74
        },
        "id": "Z_k3ZOMLitd6",
        "outputId": "05ccbd5a-72e3-495d-d96c-2cbc6b632fb0"
      },
      "execution_count": null,
      "outputs": [
        {
          "output_type": "display_data",
          "data": {
            "text/plain": [
              "<IPython.core.display.HTML object>"
            ],
            "text/html": [
              "\n",
              "     <input type=\"file\" id=\"files-1547bb8c-ef51-4ffe-b7d0-63f10ab9b618\" name=\"files[]\" multiple disabled\n",
              "        style=\"border:none\" />\n",
              "     <output id=\"result-1547bb8c-ef51-4ffe-b7d0-63f10ab9b618\">\n",
              "      Upload widget is only available when the cell has been executed in the\n",
              "      current browser session. Please rerun this cell to enable.\n",
              "      </output>\n",
              "      <script>// Copyright 2017 Google LLC\n",
              "//\n",
              "// Licensed under the Apache License, Version 2.0 (the \"License\");\n",
              "// you may not use this file except in compliance with the License.\n",
              "// You may obtain a copy of the License at\n",
              "//\n",
              "//      http://www.apache.org/licenses/LICENSE-2.0\n",
              "//\n",
              "// Unless required by applicable law or agreed to in writing, software\n",
              "// distributed under the License is distributed on an \"AS IS\" BASIS,\n",
              "// WITHOUT WARRANTIES OR CONDITIONS OF ANY KIND, either express or implied.\n",
              "// See the License for the specific language governing permissions and\n",
              "// limitations under the License.\n",
              "\n",
              "/**\n",
              " * @fileoverview Helpers for google.colab Python module.\n",
              " */\n",
              "(function(scope) {\n",
              "function span(text, styleAttributes = {}) {\n",
              "  const element = document.createElement('span');\n",
              "  element.textContent = text;\n",
              "  for (const key of Object.keys(styleAttributes)) {\n",
              "    element.style[key] = styleAttributes[key];\n",
              "  }\n",
              "  return element;\n",
              "}\n",
              "\n",
              "// Max number of bytes which will be uploaded at a time.\n",
              "const MAX_PAYLOAD_SIZE = 100 * 1024;\n",
              "\n",
              "function _uploadFiles(inputId, outputId) {\n",
              "  const steps = uploadFilesStep(inputId, outputId);\n",
              "  const outputElement = document.getElementById(outputId);\n",
              "  // Cache steps on the outputElement to make it available for the next call\n",
              "  // to uploadFilesContinue from Python.\n",
              "  outputElement.steps = steps;\n",
              "\n",
              "  return _uploadFilesContinue(outputId);\n",
              "}\n",
              "\n",
              "// This is roughly an async generator (not supported in the browser yet),\n",
              "// where there are multiple asynchronous steps and the Python side is going\n",
              "// to poll for completion of each step.\n",
              "// This uses a Promise to block the python side on completion of each step,\n",
              "// then passes the result of the previous step as the input to the next step.\n",
              "function _uploadFilesContinue(outputId) {\n",
              "  const outputElement = document.getElementById(outputId);\n",
              "  const steps = outputElement.steps;\n",
              "\n",
              "  const next = steps.next(outputElement.lastPromiseValue);\n",
              "  return Promise.resolve(next.value.promise).then((value) => {\n",
              "    // Cache the last promise value to make it available to the next\n",
              "    // step of the generator.\n",
              "    outputElement.lastPromiseValue = value;\n",
              "    return next.value.response;\n",
              "  });\n",
              "}\n",
              "\n",
              "/**\n",
              " * Generator function which is called between each async step of the upload\n",
              " * process.\n",
              " * @param {string} inputId Element ID of the input file picker element.\n",
              " * @param {string} outputId Element ID of the output display.\n",
              " * @return {!Iterable<!Object>} Iterable of next steps.\n",
              " */\n",
              "function* uploadFilesStep(inputId, outputId) {\n",
              "  const inputElement = document.getElementById(inputId);\n",
              "  inputElement.disabled = false;\n",
              "\n",
              "  const outputElement = document.getElementById(outputId);\n",
              "  outputElement.innerHTML = '';\n",
              "\n",
              "  const pickedPromise = new Promise((resolve) => {\n",
              "    inputElement.addEventListener('change', (e) => {\n",
              "      resolve(e.target.files);\n",
              "    });\n",
              "  });\n",
              "\n",
              "  const cancel = document.createElement('button');\n",
              "  inputElement.parentElement.appendChild(cancel);\n",
              "  cancel.textContent = 'Cancel upload';\n",
              "  const cancelPromise = new Promise((resolve) => {\n",
              "    cancel.onclick = () => {\n",
              "      resolve(null);\n",
              "    };\n",
              "  });\n",
              "\n",
              "  // Wait for the user to pick the files.\n",
              "  const files = yield {\n",
              "    promise: Promise.race([pickedPromise, cancelPromise]),\n",
              "    response: {\n",
              "      action: 'starting',\n",
              "    }\n",
              "  };\n",
              "\n",
              "  cancel.remove();\n",
              "\n",
              "  // Disable the input element since further picks are not allowed.\n",
              "  inputElement.disabled = true;\n",
              "\n",
              "  if (!files) {\n",
              "    return {\n",
              "      response: {\n",
              "        action: 'complete',\n",
              "      }\n",
              "    };\n",
              "  }\n",
              "\n",
              "  for (const file of files) {\n",
              "    const li = document.createElement('li');\n",
              "    li.append(span(file.name, {fontWeight: 'bold'}));\n",
              "    li.append(span(\n",
              "        `(${file.type || 'n/a'}) - ${file.size} bytes, ` +\n",
              "        `last modified: ${\n",
              "            file.lastModifiedDate ? file.lastModifiedDate.toLocaleDateString() :\n",
              "                                    'n/a'} - `));\n",
              "    const percent = span('0% done');\n",
              "    li.appendChild(percent);\n",
              "\n",
              "    outputElement.appendChild(li);\n",
              "\n",
              "    const fileDataPromise = new Promise((resolve) => {\n",
              "      const reader = new FileReader();\n",
              "      reader.onload = (e) => {\n",
              "        resolve(e.target.result);\n",
              "      };\n",
              "      reader.readAsArrayBuffer(file);\n",
              "    });\n",
              "    // Wait for the data to be ready.\n",
              "    let fileData = yield {\n",
              "      promise: fileDataPromise,\n",
              "      response: {\n",
              "        action: 'continue',\n",
              "      }\n",
              "    };\n",
              "\n",
              "    // Use a chunked sending to avoid message size limits. See b/62115660.\n",
              "    let position = 0;\n",
              "    do {\n",
              "      const length = Math.min(fileData.byteLength - position, MAX_PAYLOAD_SIZE);\n",
              "      const chunk = new Uint8Array(fileData, position, length);\n",
              "      position += length;\n",
              "\n",
              "      const base64 = btoa(String.fromCharCode.apply(null, chunk));\n",
              "      yield {\n",
              "        response: {\n",
              "          action: 'append',\n",
              "          file: file.name,\n",
              "          data: base64,\n",
              "        },\n",
              "      };\n",
              "\n",
              "      let percentDone = fileData.byteLength === 0 ?\n",
              "          100 :\n",
              "          Math.round((position / fileData.byteLength) * 100);\n",
              "      percent.textContent = `${percentDone}% done`;\n",
              "\n",
              "    } while (position < fileData.byteLength);\n",
              "  }\n",
              "\n",
              "  // All done.\n",
              "  yield {\n",
              "    response: {\n",
              "      action: 'complete',\n",
              "    }\n",
              "  };\n",
              "}\n",
              "\n",
              "scope.google = scope.google || {};\n",
              "scope.google.colab = scope.google.colab || {};\n",
              "scope.google.colab._files = {\n",
              "  _uploadFiles,\n",
              "  _uploadFilesContinue,\n",
              "};\n",
              "})(self);\n",
              "</script> "
            ]
          },
          "metadata": {}
        },
        {
          "output_type": "stream",
          "name": "stdout",
          "text": [
            "Saving league_of_legends_data_large.csv to league_of_legends_data_large (1).csv\n"
          ]
        }
      ]
    },
    {
      "cell_type": "code",
      "execution_count": null,
      "metadata": {
        "colab": {
          "base_uri": "https://localhost:8080/",
          "height": 206
        },
        "id": "fjprheODg-ZY",
        "outputId": "c454ecad-646f-470e-ca2c-de5733dcee8c"
      },
      "outputs": [
        {
          "output_type": "execute_result",
          "data": {
            "text/plain": [
              "   win  kills  deaths  assists  gold_earned   cs  wards_placed  wards_killed  \\\n",
              "0    0     16       6       19        17088  231            11             7   \n",
              "1    1      8       8        5        14865  259            10             2   \n",
              "2    0      0      17       11        15919  169            14             5   \n",
              "3    0     19      11        1        11534  264            14             3   \n",
              "4    0     12       7        6        18926  124            15             7   \n",
              "\n",
              "   damage_dealt  \n",
              "0         15367  \n",
              "1         38332  \n",
              "2         24642  \n",
              "3         15789  \n",
              "4         40268  "
            ],
            "text/html": [
              "\n",
              "  <div id=\"df-fe54dfdc-499f-4b61-828d-647f082ef5be\" class=\"colab-df-container\">\n",
              "    <div>\n",
              "<style scoped>\n",
              "    .dataframe tbody tr th:only-of-type {\n",
              "        vertical-align: middle;\n",
              "    }\n",
              "\n",
              "    .dataframe tbody tr th {\n",
              "        vertical-align: top;\n",
              "    }\n",
              "\n",
              "    .dataframe thead th {\n",
              "        text-align: right;\n",
              "    }\n",
              "</style>\n",
              "<table border=\"1\" class=\"dataframe\">\n",
              "  <thead>\n",
              "    <tr style=\"text-align: right;\">\n",
              "      <th></th>\n",
              "      <th>win</th>\n",
              "      <th>kills</th>\n",
              "      <th>deaths</th>\n",
              "      <th>assists</th>\n",
              "      <th>gold_earned</th>\n",
              "      <th>cs</th>\n",
              "      <th>wards_placed</th>\n",
              "      <th>wards_killed</th>\n",
              "      <th>damage_dealt</th>\n",
              "    </tr>\n",
              "  </thead>\n",
              "  <tbody>\n",
              "    <tr>\n",
              "      <th>0</th>\n",
              "      <td>0</td>\n",
              "      <td>16</td>\n",
              "      <td>6</td>\n",
              "      <td>19</td>\n",
              "      <td>17088</td>\n",
              "      <td>231</td>\n",
              "      <td>11</td>\n",
              "      <td>7</td>\n",
              "      <td>15367</td>\n",
              "    </tr>\n",
              "    <tr>\n",
              "      <th>1</th>\n",
              "      <td>1</td>\n",
              "      <td>8</td>\n",
              "      <td>8</td>\n",
              "      <td>5</td>\n",
              "      <td>14865</td>\n",
              "      <td>259</td>\n",
              "      <td>10</td>\n",
              "      <td>2</td>\n",
              "      <td>38332</td>\n",
              "    </tr>\n",
              "    <tr>\n",
              "      <th>2</th>\n",
              "      <td>0</td>\n",
              "      <td>0</td>\n",
              "      <td>17</td>\n",
              "      <td>11</td>\n",
              "      <td>15919</td>\n",
              "      <td>169</td>\n",
              "      <td>14</td>\n",
              "      <td>5</td>\n",
              "      <td>24642</td>\n",
              "    </tr>\n",
              "    <tr>\n",
              "      <th>3</th>\n",
              "      <td>0</td>\n",
              "      <td>19</td>\n",
              "      <td>11</td>\n",
              "      <td>1</td>\n",
              "      <td>11534</td>\n",
              "      <td>264</td>\n",
              "      <td>14</td>\n",
              "      <td>3</td>\n",
              "      <td>15789</td>\n",
              "    </tr>\n",
              "    <tr>\n",
              "      <th>4</th>\n",
              "      <td>0</td>\n",
              "      <td>12</td>\n",
              "      <td>7</td>\n",
              "      <td>6</td>\n",
              "      <td>18926</td>\n",
              "      <td>124</td>\n",
              "      <td>15</td>\n",
              "      <td>7</td>\n",
              "      <td>40268</td>\n",
              "    </tr>\n",
              "  </tbody>\n",
              "</table>\n",
              "</div>\n",
              "    <div class=\"colab-df-buttons\">\n",
              "\n",
              "  <div class=\"colab-df-container\">\n",
              "    <button class=\"colab-df-convert\" onclick=\"convertToInteractive('df-fe54dfdc-499f-4b61-828d-647f082ef5be')\"\n",
              "            title=\"Convert this dataframe to an interactive table.\"\n",
              "            style=\"display:none;\">\n",
              "\n",
              "  <svg xmlns=\"http://www.w3.org/2000/svg\" height=\"24px\" viewBox=\"0 -960 960 960\">\n",
              "    <path d=\"M120-120v-720h720v720H120Zm60-500h600v-160H180v160Zm220 220h160v-160H400v160Zm0 220h160v-160H400v160ZM180-400h160v-160H180v160Zm440 0h160v-160H620v160ZM180-180h160v-160H180v160Zm440 0h160v-160H620v160Z\"/>\n",
              "  </svg>\n",
              "    </button>\n",
              "\n",
              "  <style>\n",
              "    .colab-df-container {\n",
              "      display:flex;\n",
              "      gap: 12px;\n",
              "    }\n",
              "\n",
              "    .colab-df-convert {\n",
              "      background-color: #E8F0FE;\n",
              "      border: none;\n",
              "      border-radius: 50%;\n",
              "      cursor: pointer;\n",
              "      display: none;\n",
              "      fill: #1967D2;\n",
              "      height: 32px;\n",
              "      padding: 0 0 0 0;\n",
              "      width: 32px;\n",
              "    }\n",
              "\n",
              "    .colab-df-convert:hover {\n",
              "      background-color: #E2EBFA;\n",
              "      box-shadow: 0px 1px 2px rgba(60, 64, 67, 0.3), 0px 1px 3px 1px rgba(60, 64, 67, 0.15);\n",
              "      fill: #174EA6;\n",
              "    }\n",
              "\n",
              "    .colab-df-buttons div {\n",
              "      margin-bottom: 4px;\n",
              "    }\n",
              "\n",
              "    [theme=dark] .colab-df-convert {\n",
              "      background-color: #3B4455;\n",
              "      fill: #D2E3FC;\n",
              "    }\n",
              "\n",
              "    [theme=dark] .colab-df-convert:hover {\n",
              "      background-color: #434B5C;\n",
              "      box-shadow: 0px 1px 3px 1px rgba(0, 0, 0, 0.15);\n",
              "      filter: drop-shadow(0px 1px 2px rgba(0, 0, 0, 0.3));\n",
              "      fill: #FFFFFF;\n",
              "    }\n",
              "  </style>\n",
              "\n",
              "    <script>\n",
              "      const buttonEl =\n",
              "        document.querySelector('#df-fe54dfdc-499f-4b61-828d-647f082ef5be button.colab-df-convert');\n",
              "      buttonEl.style.display =\n",
              "        google.colab.kernel.accessAllowed ? 'block' : 'none';\n",
              "\n",
              "      async function convertToInteractive(key) {\n",
              "        const element = document.querySelector('#df-fe54dfdc-499f-4b61-828d-647f082ef5be');\n",
              "        const dataTable =\n",
              "          await google.colab.kernel.invokeFunction('convertToInteractive',\n",
              "                                                    [key], {});\n",
              "        if (!dataTable) return;\n",
              "\n",
              "        const docLinkHtml = 'Like what you see? Visit the ' +\n",
              "          '<a target=\"_blank\" href=https://colab.research.google.com/notebooks/data_table.ipynb>data table notebook</a>'\n",
              "          + ' to learn more about interactive tables.';\n",
              "        element.innerHTML = '';\n",
              "        dataTable['output_type'] = 'display_data';\n",
              "        await google.colab.output.renderOutput(dataTable, element);\n",
              "        const docLink = document.createElement('div');\n",
              "        docLink.innerHTML = docLinkHtml;\n",
              "        element.appendChild(docLink);\n",
              "      }\n",
              "    </script>\n",
              "  </div>\n",
              "\n",
              "\n",
              "<div id=\"df-b1be3d1c-27c1-43ba-8b2a-11200a94ce1f\">\n",
              "  <button class=\"colab-df-quickchart\" onclick=\"quickchart('df-b1be3d1c-27c1-43ba-8b2a-11200a94ce1f')\"\n",
              "            title=\"Suggest charts\"\n",
              "            style=\"display:none;\">\n",
              "\n",
              "<svg xmlns=\"http://www.w3.org/2000/svg\" height=\"24px\"viewBox=\"0 0 24 24\"\n",
              "     width=\"24px\">\n",
              "    <g>\n",
              "        <path d=\"M19 3H5c-1.1 0-2 .9-2 2v14c0 1.1.9 2 2 2h14c1.1 0 2-.9 2-2V5c0-1.1-.9-2-2-2zM9 17H7v-7h2v7zm4 0h-2V7h2v10zm4 0h-2v-4h2v4z\"/>\n",
              "    </g>\n",
              "</svg>\n",
              "  </button>\n",
              "\n",
              "<style>\n",
              "  .colab-df-quickchart {\n",
              "      --bg-color: #E8F0FE;\n",
              "      --fill-color: #1967D2;\n",
              "      --hover-bg-color: #E2EBFA;\n",
              "      --hover-fill-color: #174EA6;\n",
              "      --disabled-fill-color: #AAA;\n",
              "      --disabled-bg-color: #DDD;\n",
              "  }\n",
              "\n",
              "  [theme=dark] .colab-df-quickchart {\n",
              "      --bg-color: #3B4455;\n",
              "      --fill-color: #D2E3FC;\n",
              "      --hover-bg-color: #434B5C;\n",
              "      --hover-fill-color: #FFFFFF;\n",
              "      --disabled-bg-color: #3B4455;\n",
              "      --disabled-fill-color: #666;\n",
              "  }\n",
              "\n",
              "  .colab-df-quickchart {\n",
              "    background-color: var(--bg-color);\n",
              "    border: none;\n",
              "    border-radius: 50%;\n",
              "    cursor: pointer;\n",
              "    display: none;\n",
              "    fill: var(--fill-color);\n",
              "    height: 32px;\n",
              "    padding: 0;\n",
              "    width: 32px;\n",
              "  }\n",
              "\n",
              "  .colab-df-quickchart:hover {\n",
              "    background-color: var(--hover-bg-color);\n",
              "    box-shadow: 0 1px 2px rgba(60, 64, 67, 0.3), 0 1px 3px 1px rgba(60, 64, 67, 0.15);\n",
              "    fill: var(--button-hover-fill-color);\n",
              "  }\n",
              "\n",
              "  .colab-df-quickchart-complete:disabled,\n",
              "  .colab-df-quickchart-complete:disabled:hover {\n",
              "    background-color: var(--disabled-bg-color);\n",
              "    fill: var(--disabled-fill-color);\n",
              "    box-shadow: none;\n",
              "  }\n",
              "\n",
              "  .colab-df-spinner {\n",
              "    border: 2px solid var(--fill-color);\n",
              "    border-color: transparent;\n",
              "    border-bottom-color: var(--fill-color);\n",
              "    animation:\n",
              "      spin 1s steps(1) infinite;\n",
              "  }\n",
              "\n",
              "  @keyframes spin {\n",
              "    0% {\n",
              "      border-color: transparent;\n",
              "      border-bottom-color: var(--fill-color);\n",
              "      border-left-color: var(--fill-color);\n",
              "    }\n",
              "    20% {\n",
              "      border-color: transparent;\n",
              "      border-left-color: var(--fill-color);\n",
              "      border-top-color: var(--fill-color);\n",
              "    }\n",
              "    30% {\n",
              "      border-color: transparent;\n",
              "      border-left-color: var(--fill-color);\n",
              "      border-top-color: var(--fill-color);\n",
              "      border-right-color: var(--fill-color);\n",
              "    }\n",
              "    40% {\n",
              "      border-color: transparent;\n",
              "      border-right-color: var(--fill-color);\n",
              "      border-top-color: var(--fill-color);\n",
              "    }\n",
              "    60% {\n",
              "      border-color: transparent;\n",
              "      border-right-color: var(--fill-color);\n",
              "    }\n",
              "    80% {\n",
              "      border-color: transparent;\n",
              "      border-right-color: var(--fill-color);\n",
              "      border-bottom-color: var(--fill-color);\n",
              "    }\n",
              "    90% {\n",
              "      border-color: transparent;\n",
              "      border-bottom-color: var(--fill-color);\n",
              "    }\n",
              "  }\n",
              "</style>\n",
              "\n",
              "  <script>\n",
              "    async function quickchart(key) {\n",
              "      const quickchartButtonEl =\n",
              "        document.querySelector('#' + key + ' button');\n",
              "      quickchartButtonEl.disabled = true;  // To prevent multiple clicks.\n",
              "      quickchartButtonEl.classList.add('colab-df-spinner');\n",
              "      try {\n",
              "        const charts = await google.colab.kernel.invokeFunction(\n",
              "            'suggestCharts', [key], {});\n",
              "      } catch (error) {\n",
              "        console.error('Error during call to suggestCharts:', error);\n",
              "      }\n",
              "      quickchartButtonEl.classList.remove('colab-df-spinner');\n",
              "      quickchartButtonEl.classList.add('colab-df-quickchart-complete');\n",
              "    }\n",
              "    (() => {\n",
              "      let quickchartButtonEl =\n",
              "        document.querySelector('#df-b1be3d1c-27c1-43ba-8b2a-11200a94ce1f button');\n",
              "      quickchartButtonEl.style.display =\n",
              "        google.colab.kernel.accessAllowed ? 'block' : 'none';\n",
              "    })();\n",
              "  </script>\n",
              "</div>\n",
              "\n",
              "    </div>\n",
              "  </div>\n"
            ],
            "application/vnd.google.colaboratory.intrinsic+json": {
              "type": "dataframe",
              "variable_name": "lolDF",
              "summary": "{\n  \"name\": \"lolDF\",\n  \"rows\": 1000,\n  \"fields\": [\n    {\n      \"column\": \"win\",\n      \"properties\": {\n        \"dtype\": \"number\",\n        \"std\": 0,\n        \"min\": 0,\n        \"max\": 1,\n        \"num_unique_values\": 2,\n        \"samples\": [\n          1,\n          0\n        ],\n        \"semantic_type\": \"\",\n        \"description\": \"\"\n      }\n    },\n    {\n      \"column\": \"kills\",\n      \"properties\": {\n        \"dtype\": \"number\",\n        \"std\": 5,\n        \"min\": 0,\n        \"max\": 19,\n        \"num_unique_values\": 20,\n        \"samples\": [\n          16,\n          7\n        ],\n        \"semantic_type\": \"\",\n        \"description\": \"\"\n      }\n    },\n    {\n      \"column\": \"deaths\",\n      \"properties\": {\n        \"dtype\": \"number\",\n        \"std\": 5,\n        \"min\": 0,\n        \"max\": 19,\n        \"num_unique_values\": 20,\n        \"samples\": [\n          6,\n          0\n        ],\n        \"semantic_type\": \"\",\n        \"description\": \"\"\n      }\n    },\n    {\n      \"column\": \"assists\",\n      \"properties\": {\n        \"dtype\": \"number\",\n        \"std\": 5,\n        \"min\": 0,\n        \"max\": 19,\n        \"num_unique_values\": 20,\n        \"samples\": [\n          19,\n          14\n        ],\n        \"semantic_type\": \"\",\n        \"description\": \"\"\n      }\n    },\n    {\n      \"column\": \"gold_earned\",\n      \"properties\": {\n        \"dtype\": \"number\",\n        \"std\": 4388,\n        \"min\": 5002,\n        \"max\": 19955,\n        \"num_unique_values\": 963,\n        \"samples\": [\n          12024,\n          17905\n        ],\n        \"semantic_type\": \"\",\n        \"description\": \"\"\n      }\n    },\n    {\n      \"column\": \"cs\",\n      \"properties\": {\n        \"dtype\": \"number\",\n        \"std\": 72,\n        \"min\": 50,\n        \"max\": 299,\n        \"num_unique_values\": 244,\n        \"samples\": [\n          263,\n          221\n        ],\n        \"semantic_type\": \"\",\n        \"description\": \"\"\n      }\n    },\n    {\n      \"column\": \"wards_placed\",\n      \"properties\": {\n        \"dtype\": \"number\",\n        \"std\": 5,\n        \"min\": 0,\n        \"max\": 19,\n        \"num_unique_values\": 20,\n        \"samples\": [\n          11,\n          17\n        ],\n        \"semantic_type\": \"\",\n        \"description\": \"\"\n      }\n    },\n    {\n      \"column\": \"wards_killed\",\n      \"properties\": {\n        \"dtype\": \"number\",\n        \"std\": 2,\n        \"min\": 0,\n        \"max\": 9,\n        \"num_unique_values\": 10,\n        \"samples\": [\n          1,\n          2\n        ],\n        \"semantic_type\": \"\",\n        \"description\": \"\"\n      }\n    },\n    {\n      \"column\": \"damage_dealt\",\n      \"properties\": {\n        \"dtype\": \"number\",\n        \"std\": 13221,\n        \"min\": 5028,\n        \"max\": 49927,\n        \"num_unique_values\": 993,\n        \"samples\": [\n          40281,\n          43411\n        ],\n        \"semantic_type\": \"\",\n        \"description\": \"\"\n      }\n    }\n  ]\n}"
            }
          },
          "metadata": {},
          "execution_count": 33
        }
      ],
      "source": [
        "## EXERCISE 1 ----------------------\n",
        "#lolDF = pd.read_csv('./data/league_of_legends_data_large.csv') PARA LOCAL\n",
        "#Para colab:\n",
        "lolDF = pd.read_csv('league_of_legends_data_large.csv')\n",
        "# Mostrar las primeras filas y nombres de las columnas\n",
        "lolDF.head(5)"
      ]
    },
    {
      "cell_type": "code",
      "execution_count": null,
      "metadata": {
        "id": "3dneG9vxg-ZZ"
      },
      "outputs": [],
      "source": [
        "from sklearn.model_selection import train_test_split\n",
        "from sklearn.preprocessing import StandardScaler\n",
        "\n",
        "# Identificar y separar el target\n",
        "X = lolDF.drop('win', axis=1)\n",
        "y = lolDF['win']\n",
        "X_train, X_test, y_train, y_test = train_test_split(X, y, test_size=0.2, random_state=42)\n",
        "# Estandarizar los datos\n",
        "scaler = StandardScaler()\n",
        "X_train = scaler.fit_transform(X_train)\n",
        "X_test = scaler.transform(X_test)"
      ]
    },
    {
      "cell_type": "code",
      "execution_count": null,
      "metadata": {
        "id": "YlPwCxlrg-ZZ"
      },
      "outputs": [],
      "source": [
        "batch_size = 8"
      ]
    },
    {
      "cell_type": "code",
      "execution_count": null,
      "metadata": {
        "id": "B3NRg-Ttg-ZZ"
      },
      "outputs": [],
      "source": [
        "# Transform data to Tensorflow --------\n",
        "# ---------------------------------------\n",
        "\n",
        "X_train_tf = tf.convert_to_tensor(X_train, dtype=tf.float32)\n",
        "X_test_tf = tf.convert_to_tensor(X_test, dtype=tf.float32)\n",
        "y_train_tf = tf.convert_to_tensor(y_train, dtype=tf.float32)\n",
        "y_test_tf = tf.convert_to_tensor(y_test, dtype=tf.float32)\n",
        "\n",
        "# Crear datasets de TensorFlow\n",
        "train_tf = tf.data.Dataset.from_tensor_slices((X_train_tf, y_train_tf)).batch(batch_size).shuffle(len(X_train))\n",
        "test_tf  = tf.data.Dataset.from_tensor_slices((X_test_tf, y_test_tf)).batch(batch_size)\n"
      ]
    },
    {
      "cell_type": "markdown",
      "metadata": {
        "id": "TNhMsbk2g-ZZ"
      },
      "source": [
        "El método `.shuffle(N)` en TensorFlow **mezcla aleatoriamente** los datos en el `tf.data.Dataset` antes de pasarlos a la red neuronal.\n",
        "- `.shuffle(N)`: Mezcla los datos en bloques de tamaño `N`.\n",
        "- Un **N pequeño** → Mezcla limitada, pero usa menos memoria.\n",
        "- Un **N grande** (igual al dataset) → Mezcla completa, pero puede usar más memoria.\n",
        "\n",
        "**Regla general:** Usa un `buffer_size` suficientemente grande para evitar patrones en los datos, pero no tan grande que consuma demasiada memoria."
      ]
    },
    {
      "cell_type": "markdown",
      "metadata": {
        "id": "18YFL31Pg-ZZ"
      },
      "source": [
        "## **Paso 2: Modelo de Regresión Logística en TensorFlow**  \n",
        "Definir el modelo de regresión logística en TensorFlow implica especificar las dimensiones de entrada, utilizar una capa densa con una función de activación sigmoide e inicializar el modelo, la función de pérdida y el optimizador.  \n",
        "\n",
        "**1. Construye el Modelo de Regresión Logística**  \n",
        "- Usa `tf.keras.Sequential()` para crear un modelo secuencial.  \n",
        "- Agrega una única capa `Dense` con **una neurona** y **activación sigmoide** para realizar la regresión logística.  \n",
        "\n",
        "**2. Inicializar el Modelo, la Función de Pérdida y el Optimizador**  \n",
        "- **Definir `input_dim`:** Usa `X_train.shape[1]` para determinar el número de características en los datos de entrenamiento.  \n",
        "- **Inicializar el modelo:** Crea un modelo `Sequential` y define la capa de entrada con `input_shape=(X_train.shape[1],)`.  \n",
        "- **Función de Pérdida:** Usa **Binary Cross-Entropy Loss** (`binary_crossentropy`).  \n",
        "- **Optimizador:** Usa **Stochastic Gradient Descent (SGD)** con una tasa de aprendizaje de `0.01`.  \n",
        "\n",
        "#### **Ejercicio 2:**\n",
        "Define el modelo de regresión logística utilizando TensorFlow, especificando las dimensiones de entrada y la propagación hacia adelante (*forward pass*). Inicializa el modelo, la función de pérdida y el optimizador."
      ]
    },
    {
      "cell_type": "code",
      "execution_count": null,
      "metadata": {
        "id": "Gi-9QpzXg-ZZ"
      },
      "outputs": [],
      "source": [
        "input_dim = X_train.shape[1]\n",
        "learning_rate = 0.01"
      ]
    },
    {
      "cell_type": "code",
      "execution_count": null,
      "metadata": {
        "colab": {
          "base_uri": "https://localhost:8080/",
          "height": 221
        },
        "id": "EWrLPnOig-Za",
        "outputId": "f15cd780-f829-47df-9f2a-e23305dd5fa5"
      },
      "outputs": [
        {
          "output_type": "stream",
          "name": "stderr",
          "text": [
            "/usr/local/lib/python3.11/dist-packages/keras/src/layers/core/dense.py:87: UserWarning: Do not pass an `input_shape`/`input_dim` argument to a layer. When using Sequential models, prefer using an `Input(shape)` object as the first layer in the model instead.\n",
            "  super().__init__(activity_regularizer=activity_regularizer, **kwargs)\n"
          ]
        },
        {
          "output_type": "display_data",
          "data": {
            "text/plain": [
              "\u001b[1mModel: \"sequential_1\"\u001b[0m\n"
            ],
            "text/html": [
              "<pre style=\"white-space:pre;overflow-x:auto;line-height:normal;font-family:Menlo,'DejaVu Sans Mono',consolas,'Courier New',monospace\"><span style=\"font-weight: bold\">Model: \"sequential_1\"</span>\n",
              "</pre>\n"
            ]
          },
          "metadata": {}
        },
        {
          "output_type": "display_data",
          "data": {
            "text/plain": [
              "┏━━━━━━━━━━━━━━━━━━━━━━━━━━━━━━━━━━━━━━┳━━━━━━━━━━━━━━━━━━━━━━━━━━━━━┳━━━━━━━━━━━━━━━━━┓\n",
              "┃\u001b[1m \u001b[0m\u001b[1mLayer (type)                        \u001b[0m\u001b[1m \u001b[0m┃\u001b[1m \u001b[0m\u001b[1mOutput Shape               \u001b[0m\u001b[1m \u001b[0m┃\u001b[1m \u001b[0m\u001b[1m        Param #\u001b[0m\u001b[1m \u001b[0m┃\n",
              "┡━━━━━━━━━━━━━━━━━━━━━━━━━━━━━━━━━━━━━━╇━━━━━━━━━━━━━━━━━━━━━━━━━━━━━╇━━━━━━━━━━━━━━━━━┩\n",
              "│ dense_1 (\u001b[38;5;33mDense\u001b[0m)                      │ (\u001b[38;5;45mNone\u001b[0m, \u001b[38;5;34m1\u001b[0m)                   │               \u001b[38;5;34m9\u001b[0m │\n",
              "└──────────────────────────────────────┴─────────────────────────────┴─────────────────┘\n"
            ],
            "text/html": [
              "<pre style=\"white-space:pre;overflow-x:auto;line-height:normal;font-family:Menlo,'DejaVu Sans Mono',consolas,'Courier New',monospace\">┏━━━━━━━━━━━━━━━━━━━━━━━━━━━━━━━━━━━━━━┳━━━━━━━━━━━━━━━━━━━━━━━━━━━━━┳━━━━━━━━━━━━━━━━━┓\n",
              "┃<span style=\"font-weight: bold\"> Layer (type)                         </span>┃<span style=\"font-weight: bold\"> Output Shape                </span>┃<span style=\"font-weight: bold\">         Param # </span>┃\n",
              "┡━━━━━━━━━━━━━━━━━━━━━━━━━━━━━━━━━━━━━━╇━━━━━━━━━━━━━━━━━━━━━━━━━━━━━╇━━━━━━━━━━━━━━━━━┩\n",
              "│ dense_1 (<span style=\"color: #0087ff; text-decoration-color: #0087ff\">Dense</span>)                      │ (<span style=\"color: #00d7ff; text-decoration-color: #00d7ff\">None</span>, <span style=\"color: #00af00; text-decoration-color: #00af00\">1</span>)                   │               <span style=\"color: #00af00; text-decoration-color: #00af00\">9</span> │\n",
              "└──────────────────────────────────────┴─────────────────────────────┴─────────────────┘\n",
              "</pre>\n"
            ]
          },
          "metadata": {}
        },
        {
          "output_type": "display_data",
          "data": {
            "text/plain": [
              "\u001b[1m Total params: \u001b[0m\u001b[38;5;34m9\u001b[0m (36.00 B)\n"
            ],
            "text/html": [
              "<pre style=\"white-space:pre;overflow-x:auto;line-height:normal;font-family:Menlo,'DejaVu Sans Mono',consolas,'Courier New',monospace\"><span style=\"font-weight: bold\"> Total params: </span><span style=\"color: #00af00; text-decoration-color: #00af00\">9</span> (36.00 B)\n",
              "</pre>\n"
            ]
          },
          "metadata": {}
        },
        {
          "output_type": "display_data",
          "data": {
            "text/plain": [
              "\u001b[1m Trainable params: \u001b[0m\u001b[38;5;34m9\u001b[0m (36.00 B)\n"
            ],
            "text/html": [
              "<pre style=\"white-space:pre;overflow-x:auto;line-height:normal;font-family:Menlo,'DejaVu Sans Mono',consolas,'Courier New',monospace\"><span style=\"font-weight: bold\"> Trainable params: </span><span style=\"color: #00af00; text-decoration-color: #00af00\">9</span> (36.00 B)\n",
              "</pre>\n"
            ]
          },
          "metadata": {}
        },
        {
          "output_type": "display_data",
          "data": {
            "text/plain": [
              "\u001b[1m Non-trainable params: \u001b[0m\u001b[38;5;34m0\u001b[0m (0.00 B)\n"
            ],
            "text/html": [
              "<pre style=\"white-space:pre;overflow-x:auto;line-height:normal;font-family:Menlo,'DejaVu Sans Mono',consolas,'Courier New',monospace\"><span style=\"font-weight: bold\"> Non-trainable params: </span><span style=\"color: #00af00; text-decoration-color: #00af00\">0</span> (0.00 B)\n",
              "</pre>\n"
            ]
          },
          "metadata": {}
        }
      ],
      "source": [
        "## EXERCISE 2 ----- Tensorflow -----\n",
        "# ----------------------------------\n",
        "from tensorflow.keras import layers, models\n",
        "from tensorflow.keras.layers import Dense\n",
        "from tensorflow.keras.optimizers import SGD\n",
        "\n",
        "\n",
        "\n",
        "# Definir el modelo de Regresión Logística\n",
        "model_tf = models.Sequential([\n",
        "  layers.Dense(1, activation=\"sigmoid\", input_shape=(input_dim,))\n",
        "])\n",
        "\n",
        "# Compilar el modelo\n",
        "model_tf.compile(optimizer=SGD(learning_rate),\n",
        "              loss= 'binary_crossentropy',\n",
        "              metrics= ['accuracy'])\n",
        "\n",
        "# Resumen del modelo\n",
        "model_tf.summary()"
      ]
    },
    {
      "cell_type": "markdown",
      "metadata": {
        "id": "b-zf9Xwpg-Za"
      },
      "source": [
        "## **Paso 3: Entrenar el modelo de regresión logística con TensorFlow**  \n",
        "\n",
        "El proceso de entrenamiento se ejecutará durante un número específico de épocas. En cada época, el modelo realiza predicciones, calcula la pérdida, realiza la retropropagación (*backpropagation*) y actualiza sus parámetros.  \n",
        "\n",
        "**1. Definir el Número de Épocas:**  \n",
        "Establece el número de épocas de entrenamiento en **1000**.  \n",
        "\n",
        "**2. Proceso de Entrenamiento:**  \n",
        "   - Usa `model.fit()` para entrenar el modelo con el conjunto de datos de entrenamiento (`train_dataset`).  \n",
        "   - El modelo calcula automáticamente las predicciones, la pérdida y actualiza los parámetros mediante retropropagación.  \n",
        "\n",
        "**3. Imprimir la Pérdida Cada 100 Épocas:**  \n",
        "   - Entrena en intervalos de **100 épocas** e imprime la pérdida después de cada intervalo.  \n",
        "\n",
        "**4. Evaluación del Modelo:**  \n",
        "   - Usa `model.evaluate()` para calcular la pérdida y la precisión en los conjuntos de **entrenamiento** y **prueba**.  \n",
        "\n",
        "**5. Calcular la Precisión:**  \n",
        "   - La precisión se obtiene directamente con `model.evaluate()` en ambos conjuntos de datos.  \n",
        "\n",
        "**6. Imprimir la Precisión:**  \n",
        "   - Muestra la precisión en **entrenamiento** y **prueba** cada **100 épocas**.  \n",
        "\n",
        "#### **Ejercicio 3:**\n",
        "\n",
        "Escribe el código para entrenar el modelo de regresión logística utilizando TensorFlow:  \n",
        "- Implementa el proceso de entrenamiento,  \n",
        "- Calcula la pérdida, y  \n",
        "- Evalúa la precisión del modelo en los conjuntos de entrenamiento y prueba."
      ]
    },
    {
      "cell_type": "code",
      "execution_count": null,
      "metadata": {
        "id": "ZmkY2XSZg-Za"
      },
      "outputs": [],
      "source": [
        "epochs = 1000\n",
        "delta_epochs = 100 # How often training results are reported"
      ]
    },
    {
      "cell_type": "code",
      "execution_count": null,
      "metadata": {
        "colab": {
          "base_uri": "https://localhost:8080/"
        },
        "id": "vzDlww5kg-Za",
        "outputId": "49fd1b23-f86c-41e2-a48b-03799d1be9cf"
      },
      "outputs": [
        {
          "output_type": "stream",
          "name": "stdout",
          "text": [
            "Epoch [100/1000], Train Loss: 0.6853, Test Loss: 0.6995, Train Accuracy: 0.5475, Test Accuracy: 0.5100\n",
            "Epoch [200/1000], Train Loss: 0.6853, Test Loss: 0.7000, Train Accuracy: 0.5437, Test Accuracy: 0.5100\n",
            "Epoch [300/1000], Train Loss: 0.6853, Test Loss: 0.6999, Train Accuracy: 0.5462, Test Accuracy: 0.5100\n",
            "Epoch [400/1000], Train Loss: 0.6853, Test Loss: 0.6997, Train Accuracy: 0.5450, Test Accuracy: 0.5100\n",
            "Epoch [500/1000], Train Loss: 0.6853, Test Loss: 0.6998, Train Accuracy: 0.5425, Test Accuracy: 0.5100\n",
            "Epoch [600/1000], Train Loss: 0.6853, Test Loss: 0.7001, Train Accuracy: 0.5437, Test Accuracy: 0.5100\n",
            "Epoch [700/1000], Train Loss: 0.6853, Test Loss: 0.6996, Train Accuracy: 0.5462, Test Accuracy: 0.4950\n",
            "Epoch [800/1000], Train Loss: 0.6853, Test Loss: 0.6999, Train Accuracy: 0.5437, Test Accuracy: 0.5100\n",
            "Epoch [900/1000], Train Loss: 0.6853, Test Loss: 0.6997, Train Accuracy: 0.5475, Test Accuracy: 0.5100\n",
            "Epoch [1000/1000], Train Loss: 0.6853, Test Loss: 0.7000, Train Accuracy: 0.5450, Test Accuracy: 0.5100\n"
          ]
        }
      ],
      "source": [
        "# EXERCISE 3 --------- Tensorflow -----------\n",
        "# -------------------------------------------\n",
        "for epoch in range(0, epochs, delta_epochs):  # Entrenar en bloques de delta_epochs épocas\n",
        "    # Entrenar el modelo\n",
        "    model_tf.fit(train_tf, epochs=delta_epochs, verbose=0)\n",
        "\n",
        "    # Evaluar en los datos de entrenamiento y prueba\n",
        "    train_loss_tf, train_accuracy_tf = model_tf.evaluate(train_tf, verbose=0)\n",
        "    test_loss_tf, test_accuracy_tf = model_tf.evaluate(test_tf, verbose=0)\n",
        "\n",
        "    # Imprimir resultados\n",
        "    print(f\"Epoch [{epoch + delta_epochs}/{epochs}], Train Loss: {train_loss_tf:.4f}, Test Loss: {test_loss_tf:.4f}, Train Accuracy: {train_accuracy_tf:.4f}, Test Accuracy: {test_accuracy_tf:.4f}\")"
      ]
    },
    {
      "cell_type": "markdown",
      "metadata": {
        "id": "w_ePRC0Bg-Za"
      },
      "source": [
        "## **Paso 4: Visualización e Interpretación**  \n",
        "\n",
        "Las herramientas de visualización, como las matrices de confusión y las curvas ROC, proporcionan información sobre el rendimiento del modelo. La matriz de confusión ayuda a comprender la precisión de la clasificación, mientras que la curva ROC ilustra el equilibrio entre sensibilidad y especificidad.  \n",
        "\n",
        "### Matriz de Confusión\n",
        "Se trata de una herramienta fundamental utilizada en problemas de clasificación para evaluar el rendimiento de un modelo. Proporciona una matriz que muestra el número de predicciones correctas e incorrectas realizadas por el modelo, categorizadas según las clases reales y predichas.  \n",
        "\n",
        "Donde:  \n",
        "- **Verdadero Positivo (TP):** Clase positiva correctamente predicha (clase 1).  \n",
        "- **Verdadero Negativo (TN):** Clase negativa correctamente predicha (clase 0).  \n",
        "- **Falso Positivo (FP):** Predicho incorrectamente como positivo (clase 1), pero la clase real es negativa (clase 0). También se llama **error de Tipo I**.  \n",
        "- **Falso Negativo (FN):** Predicho incorrectamente como negativo (clase 0), pero la clase real es positiva (clase 1). También se llama **error de Tipo II**.  \n",
        "\n",
        "### Curva ROC (Receiver Operating Characteristic Curve)\n",
        "La **Curva ROC** es una representación gráfica utilizada para evaluar el rendimiento de un modelo de clasificación binaria en todos los umbrales de clasificación. Representa dos métricas:  \n",
        "\n",
        "- **Tasa de Verdaderos Positivos (TPR) o Recall (Sensibilidad):** Es la proporción de instancias realmente positivas (clase 1) que fueron clasificadas correctamente como positivas por el modelo.  \n",
        "- **Tasa de Falsos Positivos (FPR):** Es la proporción de instancias realmente negativas (clase 0) que fueron clasificadas incorrectamente como positivas por el modelo.  \n",
        "\n",
        "### AUC (Área Bajo la Curva)\n",
        "AUC significa **Área Bajo la Curva** y es una métrica de rendimiento utilizada para evaluar la calidad de un modelo de clasificación binaria. Específicamente, se refiere al área bajo la curva ROC (*Receiver Operating Characteristic*), que representa la relación entre la **Tasa de Verdaderos Positivos (TPR)** y la **Tasa de Falsos Positivos (FPR)** para diferentes valores de umbral.  \n",
        "\n",
        "### Reporte de Clasificación\n",
        "Es un resumen de varias métricas de clasificación, útiles para evaluar el rendimiento de un clasificador en un conjunto de datos determinado. Incluye métricas como:  \n",
        "- **Precisión**  \n",
        "- **Recall (Sensibilidad)**  \n",
        "- **F1-score**  \n",
        "- **Exactitud (Accuracy)**  \n",
        "\n",
        "#### **Ejercicio 4:**  \n",
        "- Escribe un código para visualizar el rendimiento del modelo utilizando matrices de confusión y curvas ROC.  \n",
        "- Genera reportes de clasificación para evaluar la **precisión, recall y F1-score**.  "
      ]
    },
    {
      "cell_type": "markdown",
      "metadata": {
        "id": "R6WfenQTg-Za"
      },
      "source": []
    },
    {
      "cell_type": "code",
      "execution_count": null,
      "metadata": {
        "id": "NGMipNwng-Za"
      },
      "outputs": [],
      "source": [
        "from sklearn.metrics import confusion_matrix, classification_report, ConfusionMatrixDisplay, roc_curve, auc"
      ]
    },
    {
      "cell_type": "code",
      "execution_count": null,
      "metadata": {
        "colab": {
          "base_uri": "https://localhost:8080/"
        },
        "id": "eXroOMuwg-Za",
        "outputId": "9a40dd5e-92a6-41aa-cc41-56b621cf304d"
      },
      "outputs": [
        {
          "output_type": "stream",
          "name": "stdout",
          "text": [
            "\u001b[1m25/25\u001b[0m \u001b[32m━━━━━━━━━━━━━━━━━━━━\u001b[0m\u001b[37m\u001b[0m \u001b[1m0s\u001b[0m 2ms/step \n",
            "\u001b[1m7/7\u001b[0m \u001b[32m━━━━━━━━━━━━━━━━━━━━\u001b[0m\u001b[37m\u001b[0m \u001b[1m0s\u001b[0m 8ms/step \n",
            "Entrenamiento (clasificación):                precision    recall  f1-score   support\n",
            "\n",
            "         0.0       0.54      0.52      0.53       395\n",
            "         1.0       0.55      0.57      0.56       405\n",
            "\n",
            "    accuracy                           0.55       800\n",
            "   macro avg       0.54      0.54      0.54       800\n",
            "weighted avg       0.54      0.55      0.54       800\n",
            "\n",
            "Test (clasificación):                precision    recall  f1-score   support\n",
            "\n",
            "         0.0       0.48      0.42      0.45        95\n",
            "         1.0       0.53      0.59      0.56       105\n",
            "\n",
            "    accuracy                           0.51       200\n",
            "   macro avg       0.51      0.51      0.50       200\n",
            "weighted avg       0.51      0.51      0.51       200\n",
            "\n",
            "Entrenamiento (Matrix):  [[206 189]\n",
            " [175 230]]\n",
            "Test (Matrix):  [[40 55]\n",
            " [43 62]]\n"
          ]
        }
      ],
      "source": [
        "# EXERCISE 4 --------- Tensorflow -----------\n",
        "# -------------------------------------------\n",
        "# Obtener predicciones en los conjuntos de entrenamiento y prueba\n",
        "y_pred_train_tf = (model_tf.predict(X_train_tf) > 0.5).astype(\"float32\")\n",
        "y_pred_test_tf  = (model_tf.predict(X_test_tf) > 0.5).astype(\"float32\")\n",
        "\n",
        "#Almacenamos las matrices de confusión en las variables respectivas.\n",
        "cm_train_tf = confusion_matrix(y_train_tf, y_pred_train_tf)\n",
        "cm_test_tf =  confusion_matrix(y_test_tf, y_pred_test_tf)\n",
        "# Classification Report\n",
        "print(\"Entrenamiento (clasificación): \",classification_report(y_train_tf, y_pred_train_tf))\n",
        "print(\"Test (clasificación): \", classification_report(y_test_tf, y_pred_test_tf))\n",
        "\n",
        "# Matriz de confusión\n",
        "print(\"Entrenamiento (Matrix): \", cm_train_tf)\n",
        "print(\"Test (Matrix): \", cm_test_tf)\n"
      ]
    },
    {
      "cell_type": "code",
      "execution_count": null,
      "metadata": {
        "id": "t8Ym7aXJg-Zb",
        "outputId": "6b4e1695-0f1c-4285-97c2-452318bc7a6b",
        "colab": {
          "base_uri": "https://localhost:8080/",
          "height": 558
        }
      },
      "outputs": [
        {
          "output_type": "stream",
          "name": "stdout",
          "text": [
            "TP (Verdaderos Ganadores):\t62\n",
            "FN (Falsos Perdedores):\t\t43\n",
            "FP (Falsos Ganadores):\t\t55\n",
            "TN (Verdaderos Perdedores):\t40\n"
          ]
        },
        {
          "output_type": "display_data",
          "data": {
            "text/plain": [
              "<Figure size 600x500 with 2 Axes>"
            ],
            "image/png": "[encoded data removed]"
          },
          "metadata": {}
        }
      ],
      "source": [
        "import seaborn as sns\n",
        "# Mostrar gráficamente la matriz de confusión  (TENSORFLOW)\n",
        "print(f\"TP (Verdaderos Ganadores):\\t{cm_test_tf[1, 1]}\")\n",
        "print(f\"FN (Falsos Perdedores):\\t\\t{cm_test_tf[1, 0]}\")\n",
        "print(f\"FP (Falsos Ganadores):\\t\\t{cm_test_tf[0, 1]}\")\n",
        "print(f\"TN (Verdaderos Perdedores):\\t{cm_test_tf[0, 0]}\")\n",
        "\n",
        "cm_MatrizCorrecta = [[cm_test_tf[1, 1], cm_test_tf[1, 0]],\n",
        "                    [cm_test_tf[0, 1], cm_test_tf[0, 0]]]\n",
        "\n",
        "\n",
        "plt.figure(figsize=(6,5))\n",
        "sns.heatmap(cm_MatrizCorrecta, annot=True, fmt=\"d\", cmap=\"Blues\", xticklabels=['Positivo', 'Negativo'], yticklabels=['Positivo', 'Negativo'])\n",
        "plt.xlabel('Predicción')\n",
        "plt.ylabel('Real')\n",
        "plt.title(\"Matriz de Confusión - Test\")\n",
        "plt.show()"
      ]
    },
    {
      "cell_type": "code",
      "execution_count": null,
      "metadata": {
        "id": "QNbiNK8Rg-Zb",
        "outputId": "ecac9832-4197-4aef-cf1e-229ab1f5a01b",
        "colab": {
          "base_uri": "https://localhost:8080/",
          "height": 472
        }
      },
      "outputs": [
        {
          "output_type": "display_data",
          "data": {
            "text/plain": [
              "<Figure size 640x480 with 1 Axes>"
            ],
            "image/png": "[encoded data removed]"
          },
          "metadata": {}
        }
      ],
      "source": [
        "# Plot ROC Curve for TENSORFLOW results\n",
        "fpr, tpr, thresholds = roc_curve(y_test_tf, y_pred_test_tf)\n",
        "roc_auc = auc(fpr, tpr)\n",
        "\n",
        "plt.figure()\n",
        "plt.plot(fpr, tpr, color='darkorange', lw=2, label=f'ROC curve (area = {roc_auc:.2f})')\n",
        "plt.plot([0, 1], [0, 1], color='navy', lw=2, linestyle='--')\n",
        "plt.xlim([0.0, 1.0])\n",
        "plt.ylim([0.0, 1.05])\n",
        "plt.xlabel('Ratio Falsos Ganadores')\n",
        "plt.ylabel('Ratio Verdaderos Ganadores')\n",
        "plt.title('Receiver Operating Characteristic (ROC)')\n",
        "plt.legend(loc=\"lower right\")\n",
        "plt.show()"
      ]
    },
    {
      "cell_type": "markdown",
      "metadata": {
        "id": "W9vEZx2vg-Zb"
      },
      "source": [
        "La **Curva ROC (Receiver Operating Characteristic)** es una herramienta que evalúa el rendimiento de un modelo de clasificación binaria, mostrando la relación entre la tasa de verdaderos positivos y la tasa de falsos positivos a distintos umbrales de decisión.\n",
        "\n",
        "1. **Cálculo de la curva ROC**:\n",
        "   ```python\n",
        "   fpr, tpr, thresholds = roc_curve(y_test_torch, y_pred_test_torch)\n",
        "   ```\n",
        "   - `y_test_torch`: Son las etiquetas reales de las partidas (0: derrota, 1: victoria).\n",
        "   - `y_pred_test_torch`: Son las probabilidades predichas por el modelo de que un equipo gane.\n",
        "   - `roc_curve(y_test_torch, y_pred_test_torch)`: Calcula la **tasa de falsos positivos (FPR)** y la **tasa de verdaderos positivos (TPR)** para diferentes umbrales de decisión.\n",
        "\n",
        "2. **Cálculo del Área Bajo la Curva (AUC)**:\n",
        "   ```python\n",
        "   roc_auc = auc(fpr, tpr)\n",
        "   ```\n",
        "   - Mide la calidad del modelo: cuanto más cerca de 1, mejor la capacidad del modelo para separar victorias y derrotas.\n",
        "\n",
        "3. **Gráfica de la Curva ROC**:\n",
        "   ```python\n",
        "   plt.plot(fpr, tpr, color='darkorange', lw=2, label=f'ROC curve (area = {roc_auc:.2f})')\n",
        "   ```\n",
        "   - `plt.plot(fpr, tpr)`: Dibuja la curva ROC.\n",
        "   - `plt.plot([0, 1], [0, 1], linestyle='--')`: Dibuja la línea de referencia aleatoria (clasificador sin poder predictivo).\n",
        "   - `plt.xlabel('Ratio Falsos Ganadores')`: Eje X representa los **falsos positivos** (errores en predecir victorias cuando fueron derrotas).\n",
        "   - `plt.ylabel('Ratio Verdaderos Ganadores')`: Eje Y representa los **verdaderos positivos** (correctas predicciones de victorias).\n",
        "   - `plt.title('Receiver Operating Characteristic (ROC)')`: Título de la gráfica.\n",
        "\n",
        "**Interpretación**\n",
        "- Si el modelo predice **perfectamente**, la curva ROC estará lo más cerca posible del **esquina superior izquierda (0,1)**.\n",
        "- Si la curva ROC está **cercana a la diagonal (0,0) → (1,1)**, el modelo no es mejor que una elección aleatoria.\n",
        "- Un **AUC cercano a 1** indica que el modelo predice con alta precisión quién gana o pierde la partida.\n",
        "\n",
        "Por ejemplo, si el modelo tiene un **AUC de 0.85**, significa que en un **85% de las veces** será capaz de distinguir correctamente entre una victoria y una derrota, basado en los datos previos de partidas.\n",
        "\n",
        "---\n",
        "La curva ROC y su AUC ayudan a evaluar el rendimiento del modelo de predicción de victorias en League of Legends. Un buen modelo tendrá una curva ROC que se acerque a la esquina superior izquierda y un **AUC alto**, lo que indicará una fuerte capacidad de predicción basada en estadísticas de la partida."
      ]
    },
    {
      "cell_type": "markdown",
      "metadata": {
        "id": "O2mSnpO0g-Zb"
      },
      "source": [
        "#### **Obtención de la Curva ROC**\n",
        "Cada punto de la **Curva ROC** se obtiene variando un umbral de clasificación y calculando dos métricas clave:\n",
        "\n",
        "1. **Tasa de Verdaderos Positivos (TPR - True Positive Rate)**  \n",
        "   $$\n",
        "   TPR = \\frac{\\text{Verdaderos Positivos (TP)}}{\\text{Verdaderos Positivos (TP)} + \\text{Falsos Negativos (FN)}}\n",
        "   $$\n",
        "   Representa cuántos positivos reales (victorias) fueron correctamente identificados.\n",
        "\n",
        "2. **Tasa de Falsos Positivos (FPR - False Positive Rate)**  \n",
        "   $$\n",
        "   FPR = \\frac{\\text{Falsos Positivos (FP)}}{\\text{Falsos Positivos (FP)} + \\text{Verdaderos Negativos (TN)}}\n",
        "   $$\n",
        "   Indica cuántos negativos reales (derrotas) fueron clasificados incorrectamente como positivos (victorias).\n",
        "\n",
        "---\n",
        "\n",
        "#### **Proceso para calcular la Curva ROC**\n",
        "1. **Se obtiene la probabilidad de victoria para cada partida**, en lugar de una simple clasificación binaria (0 o 1).  \n",
        "   ```python\n",
        "   y_pred_test_torch  # Probabilidades predichas por el modelo\n",
        "   ```\n",
        "   Ejemplo:\n",
        "   ```\n",
        "   y_pred_test_torch = [0.95, 0.85, 0.7, 0.55, 0.45, 0.3, 0.2, 0.1]\n",
        "   y_test_torch = [1, 1, 1, 1, 0, 0, 0, 0]  # Etiquetas reales (1 = victoria, 0 = derrota)\n",
        "   ```\n",
        "\n",
        "2. **Se definen varios umbrales** para convertir las probabilidades en predicciones binarias (ejemplo: 0.9, 0.8, 0.7... hasta 0.0).\n",
        "3. **Para cada umbral**, se asignan las etiquetas:\n",
        "   - Si $ p > \\text{umbral} $ → predicción = 1 (victoria).\n",
        "   - Si $ p \\leq \\text{umbral} $ → predicción = 0 (derrota).\n",
        "4. **Se calcula TPR y FPR** para cada umbral.\n",
        "5. **Se grafican los valores (FPR, TPR)** obtenidos.\n",
        "\n",
        "**En resumen**\n",
        "- Cada **punto** en la curva ROC representa un equilibrio entre **falsos positivos y verdaderos positivos**, dependiendo del umbral de decisión.\n",
        "- **Un buen modelo** tiene una curva ROC que se acerca más a la esquina superior izquierda (alta TPR y baja FPR)."
      ]
    },
    {
      "cell_type": "code",
      "execution_count": null,
      "metadata": {
        "id": "a54N_lQxg-Zb"
      },
      "outputs": [],
      "source": [
        "def calculate_fpr_tpr_tf(y_true, y_pred_probs, threshold):\n",
        "    \"\"\"\n",
        "    Calcula las tasas de falsos positivos (FPR) y verdaderos positivos (TPR)\n",
        "    en función de un umbral dado.\n",
        "\n",
        "    Parámetros:\n",
        "    - y_true: np.array, etiquetas reales (0 = negativo, 1 = positivo).\n",
        "    - y_pred_probs: np.array, probabilidades de predicción del modelo.\n",
        "    - threshold: float, umbral de decisión para clasificar como 0 o 1.\n",
        "\n",
        "    Retorna:\n",
        "    - fpr: float, tasa de falsos positivos.\n",
        "    - tpr: float, tasa de verdaders positivos.\n",
        "    \"\"\"\n",
        "\n",
        "    # Convertir probabilidades en predicciones binarias usando el umbral\n",
        "    y_pred = (y_pred_probs >= threshold)\n",
        "\n",
        "    # Calcular TP, FP, TN, FN\n",
        "    TP = np.sum(np.logical_and(y_pred == 1, y_true == 1))\n",
        "    FP = np.sum(np.logical_and(y_pred == 1, y_true == 0))\n",
        "    TN = np.sum(np.logical_and(y_pred == 0, y_true == 0))\n",
        "    FN = np.sum(np.logical_and(y_pred == 0, y_true == 1))\n",
        "\n",
        "    # Calcular FPR y FNR evitando divisiones por cero\n",
        "    fpr = np.divide(FP, (FP + TN), where=(FP + TN) != 0, dtype=float)\n",
        "    fnr = np.divide(FN, (FN + TP), where=(FN + TP) != 0, dtype=float)\n",
        "    tpr = 1 - fnr\n",
        "\n",
        "    return fpr, tpr"
      ]
    },
    {
      "cell_type": "code",
      "execution_count": null,
      "metadata": {
        "id": "63OdI9Cyg-Zb",
        "outputId": "904cfb0a-6512-452f-ad1d-8ba0ff91b381",
        "colab": {
          "base_uri": "https://localhost:8080/"
        }
      },
      "outputs": [
        {
          "output_type": "stream",
          "name": "stdout",
          "text": [
            "\u001b[1m7/7\u001b[0m \u001b[32m━━━━━━━━━━━━━━━━━━━━\u001b[0m\u001b[37m\u001b[0m \u001b[1m0s\u001b[0m 5ms/step \n",
            "TENSORFLOW \n",
            "---------\n",
            "Para umbral = 0.3:\n",
            "Tasa de Falsos Ganadores     (FPR): 1.00\n",
            "Tasa de Verdaderos Ganadores (TPR): 1.00 \n",
            "\n",
            "Para umbral = 0.5:\n",
            "Tasa de Falsos Ganadores     (FPR): 0.58\n",
            "Tasa de Verdaderos Ganadores (TPR): 0.58 \n",
            "\n",
            "Para umbral = 0.8:\n",
            "Tasa de Falsos Ganadores     (FPR): 0.00\n",
            "Tasa de Verdaderos Ganadores (TPR): 0.00 \n",
            "\n"
          ]
        }
      ],
      "source": [
        "# ROC points for TENSORFLOW model -------------------------\n",
        "y_pred_test_probs_tf = model_tf.predict(X_test_tf)\n",
        "\n",
        "fpr, tpr = calculate_fpr_tpr_tf(y_test_tf, y_pred_test_probs_tf, threshold = 0.3)\n",
        "print(\"TENSORFLOW \\n---------\")\n",
        "print(f\"Para umbral = 0.3:\")\n",
        "print(f\"Tasa de Falsos Ganadores     (FPR): {fpr:.2f}\")\n",
        "print(f\"Tasa de Verdaderos Ganadores (TPR): {tpr:.2f} \\n\")\n",
        "\n",
        "fpr, tpr = calculate_fpr_tpr_tf(y_test_tf, y_pred_test_probs_tf, threshold = 0.5)\n",
        "print(f\"Para umbral = 0.5:\")\n",
        "print(f\"Tasa de Falsos Ganadores     (FPR): {fpr:.2f}\")\n",
        "print(f\"Tasa de Verdaderos Ganadores (TPR): {tpr:.2f} \\n\")\n",
        "\n",
        "fpr, tpr = calculate_fpr_tpr_tf(y_test_tf, y_pred_test_probs_tf, threshold = 0.8)\n",
        "print(f\"Para umbral = 0.8:\")\n",
        "print(f\"Tasa de Falsos Ganadores     (FPR): {fpr:.2f}\")\n",
        "print(f\"Tasa de Verdaderos Ganadores (TPR): {tpr:.2f} \\n\")"
      ]
    },
    {
      "cell_type": "markdown",
      "metadata": {
        "id": "eq4oWf8Qg-Zb"
      },
      "source": [
        "Double-click <b>here</b> for the Hint.\n",
        "<!--\n",
        "\n",
        "#Change the name of variables as per your code\n",
        "import matplotlib.pyplot as plt\n",
        "from sklearn.metrics import confusion_matrix, classification_report, roc_curve, auc\n",
        "import itertools\n",
        "\n",
        "# Visualize the confusion matrix\n",
        "#Change the variable names as used in your code\n",
        "y_pred_test_labels = (y_pred_test > 0.5).float()\n",
        "cm = confusion_matrix(y_test, y_pred_test_labels)\n",
        "\n",
        "plt.figure(figsize=(6, 6))\n",
        "plt.imshow(cm, interpolation='nearest', cmap=plt.cm.Blues)\n",
        "plt.title('Confusion Matrix')\n",
        "plt.colorbar()\n",
        "tick_marks = range(2)\n",
        "plt.xticks(tick_marks, ['Loss', 'Win'], rotation=45)\n",
        "plt.yticks(tick_marks, ['Loss', 'Win'])\n",
        "\n",
        "thresh = cm.max() / 2\n",
        "for i, j in itertools.product(range(cm.shape[0]), range(cm.shape[1])):\n",
        "    plt.text(j, i, cm[i, j], horizontalalignment=\"center\", color=\"white\" if cm[i, j] > thresh else \"black\")\n",
        "\n",
        "plt.tight_layout()\n",
        "plt.ylabel('True label')\n",
        "plt.xlabel('Predicted label')\n",
        "plt.show()\n",
        "\n",
        "# Print classification report\n",
        "print(\"Classification Report:\\n\", classification_report(y_test, y_pred_test_labels, target_names=['Loss', 'Win']))\n",
        "\n",
        "# Plot ROC curve\n",
        "fpr, tpr, thresholds = roc_curve(y_test, y_pred_test)\n",
        "roc_auc = auc(fpr, tpr)\n",
        "\n",
        "plt.figure()\n",
        "plt.plot(fpr, tpr, color='darkorange', lw=2, label=f'ROC curve (area = {roc_auc:.2f})')\n",
        "plt.plot([0, 1], [0, 1], color='navy', lw=2, linestyle='--')\n",
        "plt.xlim([0.0, 1.0])\n",
        "plt.ylim([0.0, 1.05])\n",
        "plt.xlabel('False Positive Rate')\n",
        "plt.ylabel('True Positive Rate')\n",
        "plt.title('Receiver Operating Characteristic (ROC)')\n",
        "plt.legend(loc=\"lower right\")\n",
        "plt.show()\n",
        "-->\n"
      ]
    },
    {
      "cell_type": "markdown",
      "metadata": {
        "id": "iMhdUZn0g-Zb"
      },
      "source": [
        "### **Paso 5: Guardar y Cargar un Modelo Entrenado en TensorFlow**  \n",
        "Esta tarea demuestra cómo **guardar un modelo entrenado** usando `model.save()` y **recargarlo** usando `tf.keras.models.load_model()`. Evaluar el modelo cargado garantiza que mantenga su rendimiento, lo que lo hace práctico para su implementación en aplicaciones del mundo real.  \n",
        "\n",
        "**1. Guardar el Modelo**  \n",
        "- Guarda el modelo entrenado completo utilizando `model.save()`.  \n",
        "- TensorFlow permite guardar el modelo en dos formatos:  \n",
        "  - **Formato HDF5 (`.h5`)** (ejemplo: `model.save('nombre_del_modelo.h5')`).  \n",
        "  - **Formato SavedModel** (por defecto, basado en directorios).  \n",
        "\n",
        "**2. Cargar el Modelo**  \n",
        "- Recarga el modelo guardado usando `tf.keras.models.load_model()`.  \n",
        "  ```python\n",
        "  model = tf.keras.models.load_model('nombre_del_modelo.h5')\n",
        "  ```\n",
        "- El modelo cargado contiene los mismos **pesos, arquitectura y estado del optimizador** que el modelo original.  \n",
        "\n",
        "**3. Evaluar el Modelo Cargado**  \n",
        "- Después de cargarlo, **evalúa el modelo** en el conjunto de prueba para asegurarte de que su rendimiento sea similar al modelo entrenado.  \n",
        "- Usa `model.evaluate(test_dataset)` para comprobar la pérdida y la precisión.  \n",
        "\n",
        "#### **Ejercicio 5:**  \n",
        "- Escribe un código para guardar el modelo entrenado y volver a cargarlo.  \n",
        "- Asegúrate de que el modelo cargado mantenga un rendimiento consistente evaluándolo en el conjunto de prueba."
      ]
    },
    {
      "cell_type": "code",
      "execution_count": null,
      "metadata": {
        "id": "g1yPl6tGg-Zb",
        "colab": {
          "base_uri": "https://localhost:8080/"
        },
        "outputId": "0fcc726c-54d1-4510-b8da-fa033711806c"
      },
      "outputs": [
        {
          "output_type": "stream",
          "name": "stderr",
          "text": [
            "WARNING:absl:You are saving your model as an HDF5 file via `model.save()` or `keras.saving.save_model(model)`. This file format is considered legacy. We recommend using instead the native Keras format, e.g. `model.save('my_model.keras')` or `keras.saving.save_model(model, 'my_model.keras')`. \n",
            "WARNING:absl:Compiled the loaded model, but the compiled metrics have yet to be built. `model.compile_metrics` will be empty until you train or evaluate the model.\n"
          ]
        },
        {
          "output_type": "stream",
          "name": "stdout",
          "text": [
            "\u001b[1m7/7\u001b[0m \u001b[32m━━━━━━━━━━━━━━━━━━━━\u001b[0m\u001b[37m\u001b[0m \u001b[1m0s\u001b[0m 7ms/step \n",
            "Test Accuracy of the Loaded Model: 0.5042\n"
          ]
        }
      ],
      "source": [
        "# EXERCISE 5 --------- Tensorflow -----------\n",
        "# -------------------------------------------\n",
        "# Save the model\n",
        "model_tf.save('logistic_regression_model.h5')\n",
        "\n",
        "# Load the model\n",
        "from tensorflow.keras.models import load_model\n",
        "new_model_tf = load_model('logistic_regression_model.h5')\n",
        "\n",
        "# Obtener predicciones\n",
        "y_pred_test_new_tf = new_model_tf.predict(X_test_tf) > 0.5\n",
        "\n",
        "# Calcular la precisión en el conjunto de prueba\n",
        "test_accuracy_new_tf = np.mean(y_pred_test_new_tf == y_test_tf)\n",
        "\n",
        "print(f\"Test Accuracy of the Loaded Model: {test_accuracy_new_tf:.4f}\")"
      ]
    }
  ],
  "metadata": {
    "kernelspec": {
      "display_name": "Python 3",
      "language": "python",
      "name": "python3"
    },
    "language_info": {
      "codemirror_mode": {
        "name": "ipython",
        "version": 3
      },
      "file_extension": ".py",
      "mimetype": "text/x-python",
      "name": "python",
      "nbconvert_exporter": "python",
      "pygments_lexer": "ipython3",
      "version": "3.10.7"
    },
    "prev_pub_hash": "3954a6768947e1337f1fbb623d47144c102fda57b5eb30076fea611e015e66ea",
    "colab": {
      "provenance": []
    }
  },
  "nbformat": 4,
  "nbformat_minor": 0
}